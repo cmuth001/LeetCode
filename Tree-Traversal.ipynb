{
 "cells": [
  {
   "cell_type": "code",
   "execution_count": 71,
   "metadata": {},
   "outputs": [],
   "source": [
    "class Node:\n",
    "    def __init__(self, data):\n",
    "        '''\n",
    "        This is a Node class default constructor for all the parents nodes.\n",
    "        '''\n",
    "        self.left = None\n",
    "        self.right = None\n",
    "        self.data = data\n",
    "        \n",
    "    def insert(self, data):\n",
    "        '''\n",
    "        This func is used to insert element into to the binary tree.\n",
    "        '''\n",
    "        if self.data is None:\n",
    "            self.data = data\n",
    "        elif self.data > data:\n",
    "            if self.left is None:\n",
    "                self.left = Node(data)\n",
    "            else:\n",
    "                self.left.insert(data)\n",
    "        elif self.data < data:\n",
    "            if self.right is None:\n",
    "                self.right  = Node(data)\n",
    "            else:\n",
    "                self.right.insert(data)\n",
    "    \n",
    "    def findValue(self, lkpVal):\n",
    "        '''\n",
    "        This function is used to search element in the Tree;\n",
    "        lkpVal: lookup Value\n",
    "        return: element found or not\n",
    "        '''\n",
    "        if lkpVal < self.data:\n",
    "            if self.left is None:\n",
    "                return str(lkpVal)+\" is Not Found in the TREE\"\n",
    "            return self.left.findValue(lkpVal)\n",
    "        elif lkpVal > self.data:\n",
    "            if self.right is None:\n",
    "                return str(lkpVal)+\" is Not Found in the TREE\"\n",
    "            return self.right.findValue(lkpVal)\n",
    "        else:\n",
    "            print(\"\\n\"+str(lkpVal)+\" is Found in the TREE\")\n",
    "        \n",
    "    def printPreorderTree(self):\n",
    "        '''\n",
    "        Print Binary Tree \n",
    "        '''\n",
    "        print(self.data, end=' ')\n",
    "        if self.left:\n",
    "            self.left.printPreorderTree()\n",
    "        if self.right:\n",
    "            self.right.printPreorderTree()\n",
    "    def printInorderTree(self):\n",
    "        '''\n",
    "        Print Binary Tree \n",
    "        '''\n",
    "        if self.left:\n",
    "            self.left.printInorderTree()\n",
    "        print(self.data, end=' ')\n",
    "        if self.right:\n",
    "            self.right.printInorderTree()\n",
    "    def printpostorderTree(self):\n",
    "        '''\n",
    "        Print Binary Tree \n",
    "        '''\n",
    "        if self.left:\n",
    "            self.left.printpostorderTree()\n",
    "        if self.right:\n",
    "            self.right.printpostorderTree()\n",
    "        print(self.data, end=' ')"
   ]
  },
  {
   "cell_type": "code",
   "execution_count": 72,
   "metadata": {},
   "outputs": [
    {
     "ename": "AttributeError",
     "evalue": "'Node' object has no attribute 'printTree'",
     "output_type": "error",
     "traceback": [
      "\u001b[0;31m---------------------------------------------------------------------------\u001b[0m",
      "\u001b[0;31mAttributeError\u001b[0m                            Traceback (most recent call last)",
      "\u001b[0;32m<ipython-input-72-f29e799523c6>\u001b[0m in \u001b[0;36m<module>\u001b[0;34m()\u001b[0m\n\u001b[1;32m      1\u001b[0m \u001b[0mroot\u001b[0m \u001b[0;34m=\u001b[0m \u001b[0mNode\u001b[0m\u001b[0;34m(\u001b[0m\u001b[0;36m10\u001b[0m\u001b[0;34m)\u001b[0m\u001b[0;34m\u001b[0m\u001b[0m\n\u001b[0;32m----> 2\u001b[0;31m \u001b[0mroot\u001b[0m\u001b[0;34m.\u001b[0m\u001b[0mprintTree\u001b[0m\u001b[0;34m(\u001b[0m\u001b[0;34m)\u001b[0m\u001b[0;34m\u001b[0m\u001b[0m\n\u001b[0m",
      "\u001b[0;31mAttributeError\u001b[0m: 'Node' object has no attribute 'printTree'"
     ]
    }
   ],
   "source": [
    "root = Node(10)\n",
    "root.printTree()"
   ]
  },
  {
   "cell_type": "code",
   "execution_count": 73,
   "metadata": {},
   "outputs": [
    {
     "data": {
      "text/plain": [
       "'14 is Not Found in the TREE'"
      ]
     },
     "execution_count": 73,
     "metadata": {},
     "output_type": "execute_result"
    }
   ],
   "source": [
    "#insert into the B-Tree\n",
    "root.insert(8)\n",
    "root.insert(5)\n",
    "root.insert(4)\n",
    "root.insert(6)\n",
    "root.insert(12)\n",
    "root.insert(11)\n",
    "root.insert(13)\n",
    "#Find value in the Tree\n",
    "root.findValue(14) #Not Found"
   ]
  },
  {
   "cell_type": "code",
   "execution_count": 76,
   "metadata": {},
   "outputs": [
    {
     "name": "stdout",
     "output_type": "stream",
     "text": [
      "\n",
      "Pre-Order Traversal10 8 5 4 6 12 11 13 \n",
      "In-Order Traversal\n",
      "4 5 6 8 10 11 12 13 \n",
      "Post-Order Traversal\n",
      "4 6 5 8 11 13 12 10 "
     ]
    }
   ],
   "source": [
    "# Tree Traversal\n",
    "print(\"\\nPre-Order Traversal: \", end='')\n",
    "root.printPreorderTree()\n",
    "print(\"\\nIn-Order Traversal: \", end = '')\n",
    "root.printInorderTree()\n",
    "print(\"\\nPost-Order Traversal: \", end = '')\n",
    "root.printpostorderTree()"
   ]
  },
  {
   "cell_type": "code",
   "execution_count": null,
   "metadata": {},
   "outputs": [],
   "source": []
  },
  {
   "cell_type": "code",
   "execution_count": null,
   "metadata": {},
   "outputs": [],
   "source": []
  }
 ],
 "metadata": {
  "kernelspec": {
   "display_name": "Python 3",
   "language": "python",
   "name": "python3"
  },
  "language_info": {
   "codemirror_mode": {
    "name": "ipython",
    "version": 3
   },
   "file_extension": ".py",
   "mimetype": "text/x-python",
   "name": "python",
   "nbconvert_exporter": "python",
   "pygments_lexer": "ipython3",
   "version": "3.6.4"
  }
 },
 "nbformat": 4,
 "nbformat_minor": 2
}
