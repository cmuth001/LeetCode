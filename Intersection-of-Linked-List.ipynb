{
 "cells": [
  {
   "cell_type": "code",
   "execution_count": 1,
   "metadata": {},
   "outputs": [
    {
     "data": {
      "text/html": [
       "<img src=\"intersectionOfTwoLinkedList.png\" width=600 height=400 alt = \"intersection of two linked list\" />"
      ],
      "text/plain": [
       "<IPython.core.display.HTML object>"
      ]
     },
     "metadata": {},
     "output_type": "display_data"
    }
   ],
   "source": [
    "%%html\n",
    "<img src=\"intersectionOfTwoLinkedList.png\" width=600 height=400 alt = \"intersection of two linked list\" />"
   ]
  },
  {
   "cell_type": "code",
   "execution_count": 2,
   "metadata": {},
   "outputs": [],
   "source": [
    "class Node:\n",
    "    def __init__(self, data):\n",
    "        self.data = data\n",
    "        self.next = None"
   ]
  },
  {
   "cell_type": "code",
   "execution_count": 3,
   "metadata": {},
   "outputs": [],
   "source": [
    "class LinkedList:\n",
    "    def __init__(self, skip):\n",
    "        self.head =  None\n",
    "        self.skip = skip\n",
    "    def printLL(self):\n",
    "        temp_node = self.head\n",
    "        if temp_node == None:\n",
    "            print(\"Empty: No Elements presentin LL.\")\n",
    "            return None\n",
    "        else:\n",
    "            while(temp_node):\n",
    "                print(temp_node.data, end=' ')\n",
    "                temp_node = temp_node.next\n",
    "            print()\n",
    "    def createLinkedListA(self, temp_list):\n",
    "        for i in range(0, len(temp_list)):\n",
    "            newNode = Node(temp_list[i])\n",
    "            if self.head == None:\n",
    "                self.head = newNode\n",
    "            else:\n",
    "                nextNode = self.head\n",
    "                while nextNode.next != None:\n",
    "                    nextNode = nextNode.next\n",
    "                nextNode.next = newNode\n",
    "    def createLinkedListB(self,objA, temp_list):\n",
    "        temp_nodeA = objA.head\n",
    "        while objA.skip:\n",
    "            temp_nodeA = temp_nodeA.next\n",
    "            objA.skip -= 1\n",
    "        \n",
    "        for i in range(0, self.skip+1):\n",
    "            newNode = Node(temp_list[i])\n",
    "            if self.head == None:\n",
    "                self.head = newNode\n",
    "            else:\n",
    "                nextNode = self.head\n",
    "                while nextNode.next != None:\n",
    "                    nextNode = nextNode.next\n",
    "                nextNode.next = newNode\n",
    "        nextNode.next = temp_nodeA  \n",
    "    def getLength(self, objA):\n",
    "        length_a = 0\n",
    "        length_b = 0\n",
    "        temp_nodeA = objA.head\n",
    "        while temp_nodeA:\n",
    "            length_a += 1\n",
    "            temp_nodeA = temp_nodeA.next\n",
    "        temp_nodeB = self.head\n",
    "        while temp_nodeB:\n",
    "            length_b += 1\n",
    "            temp_nodeB = temp_nodeB.next\n",
    "        return length_a, length_b\n",
    "    def findCommonPoint(self, objA, diff):\n",
    "        temp_nodeA = objA.head\n",
    "        temp_nodeB = self.head\n",
    "        while diff:\n",
    "            temp_nodeB = temp_nodeB.next\n",
    "            diff -= 1\n",
    "        while temp_nodeB and temp_nodeA:\n",
    "            if temp_nodeB == temp_nodeA:\n",
    "                print(\"Intersection point of linked list is at:\", temp_nodeA.data)\n",
    "                return None\n",
    "            else:\n",
    "                temp_nodeB = temp_nodeB.next\n",
    "                temp_nodeA = temp_nodeA.next\n",
    "        "
   ]
  },
  {
   "cell_type": "code",
   "execution_count": 8,
   "metadata": {},
   "outputs": [],
   "source": [
    "objA = LinkedList(2)\n",
    "\n",
    "objB = LinkedList(3)"
   ]
  },
  {
   "cell_type": "code",
   "execution_count": 9,
   "metadata": {},
   "outputs": [
    {
     "name": "stdout",
     "output_type": "stream",
     "text": [
      "4 1 8 4 5 \n",
      "5 0 1 8 4 5 \n",
      "Intersection point of linked list is at: 8\n"
     ]
    }
   ],
   "source": [
    "objA.createLinkedListA([4, 1, 8, 4, 5])\n",
    "objA.printLL()\n",
    "objB.createLinkedListB(objA, [5, 0, 1, 8, 4, 5])\n",
    "objB.printLL()\n",
    "length_a, length_b = objB.getLength(objA)\n",
    "objB.findCommonPoint(objA, abs(length_a-length_b))"
   ]
  }
 ],
 "metadata": {
  "kernelspec": {
   "display_name": "Python 3",
   "language": "python",
   "name": "python3"
  },
  "language_info": {
   "codemirror_mode": {
    "name": "ipython",
    "version": 3
   },
   "file_extension": ".py",
   "mimetype": "text/x-python",
   "name": "python",
   "nbconvert_exporter": "python",
   "pygments_lexer": "ipython3",
   "version": "3.6.4"
  }
 },
 "nbformat": 4,
 "nbformat_minor": 2
}
