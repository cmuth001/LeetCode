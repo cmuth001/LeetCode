{
 "cells": [
  {
   "cell_type": "code",
   "execution_count": 3,
   "metadata": {},
   "outputs": [
    {
     "data": {
      "text/html": [
       "<img src = 'addTwoStrings.png' width=500 alt= \"addTwoStrings\" />"
      ],
      "text/plain": [
       "<IPython.core.display.HTML object>"
      ]
     },
     "metadata": {},
     "output_type": "display_data"
    }
   ],
   "source": [
    "%%html\n",
    "<img src = 'addTwoStrings.png' width=500 alt= \"addTwoStrings\" />"
   ]
  },
  {
   "cell_type": "code",
   "execution_count": 5,
   "metadata": {},
   "outputs": [
    {
     "data": {
      "text/plain": [
       "48"
      ]
     },
     "execution_count": 5,
     "metadata": {},
     "output_type": "execute_result"
    }
   ],
   "source": [
    "ord('0') #is used to calculate ascii va"
   ]
  },
  {
   "cell_type": "code",
   "execution_count": 19,
   "metadata": {},
   "outputs": [],
   "source": [
    "def convertToInteger(temp_str):\n",
    "    '''\n",
    "    This function is used to convert string to integer \n",
    "    \n",
    "    arg: str,\n",
    "    \n",
    "    return: integer\n",
    "    '''\n",
    "    k = 0\n",
    "    for i in temp_str:\n",
    "        k = k*10 + (ord(i) - 48)\n",
    "    return k\n",
    "\n",
    "def addStrings(str1, str2):\n",
    "    '''\n",
    "    this function is used to send two str to func to convert and add them and return the result\n",
    "    arg(str1, sytr2):str,\n",
    "    return: sum of two strings\n",
    "    '''\n",
    "    result = convertToInteger(str1)+convertToInteger(str2)\n",
    "    return result"
   ]
  },
  {
   "cell_type": "code",
   "execution_count": 20,
   "metadata": {},
   "outputs": [
    {
     "data": {
      "text/plain": [
       "24"
      ]
     },
     "execution_count": 20,
     "metadata": {},
     "output_type": "execute_result"
    }
   ],
   "source": [
    "addStrings('21','3')"
   ]
  },
  {
   "cell_type": "code",
   "execution_count": null,
   "metadata": {},
   "outputs": [],
   "source": []
  }
 ],
 "metadata": {
  "kernelspec": {
   "display_name": "Python 3",
   "language": "python",
   "name": "python3"
  },
  "language_info": {
   "codemirror_mode": {
    "name": "ipython",
    "version": 3
   },
   "file_extension": ".py",
   "mimetype": "text/x-python",
   "name": "python",
   "nbconvert_exporter": "python",
   "pygments_lexer": "ipython3",
   "version": "3.6.4"
  }
 },
 "nbformat": 4,
 "nbformat_minor": 2
}
