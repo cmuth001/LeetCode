{
 "cells": [
  {
   "cell_type": "code",
   "execution_count": 4,
   "metadata": {},
   "outputs": [],
   "source": [
    "class Node:\n",
    "    def __init__(self, data):\n",
    "        '''\n",
    "        This is a Node class default constructor for all the parents nodes.\n",
    "        '''\n",
    "        self.left = None\n",
    "        self.right = None\n",
    "        self.data = data\n",
    "        \n",
    "    def insert(self, data):\n",
    "        '''\n",
    "        This func is used to insert element into to the binary tree.\n",
    "        '''\n",
    "        if self.data is None:\n",
    "            self.data = data\n",
    "        elif self.data > data:\n",
    "            if self.left is None:\n",
    "                self.left = Node(data)\n",
    "            else:\n",
    "                self.left.insert(data)\n",
    "        elif self.data < data:\n",
    "            if self.right is None:\n",
    "                self.right  = Node(data)\n",
    "            else:\n",
    "                self.right.insert(data)\n",
    "    def printTree(self):\n",
    "        '''\n",
    "        Print Binary Tree \n",
    "        '''\n",
    "        if self.left:\n",
    "            self.left.printTree()\n",
    "        print(self.data, end=' ')\n",
    "        if self.right:\n",
    "            self.right.printTree()    "
   ]
  },
  {
   "cell_type": "code",
   "execution_count": 5,
   "metadata": {},
   "outputs": [
    {
     "name": "stdout",
     "output_type": "stream",
     "text": [
      "10 "
     ]
    }
   ],
   "source": [
    "root = Node(10)\n",
    "root.printTree()"
   ]
  },
  {
   "cell_type": "code",
   "execution_count": 6,
   "metadata": {},
   "outputs": [
    {
     "name": "stdout",
     "output_type": "stream",
     "text": [
      "4 5 6 8 10 11 12 13 "
     ]
    }
   ],
   "source": [
    "root.insert(8)\n",
    "root.insert(5)\n",
    "root.insert(4)\n",
    "root.insert(6)\n",
    "root.insert(12)\n",
    "root.insert(11)\n",
    "root.insert(13)\n",
    "root.printTree()"
   ]
  },
  {
   "cell_type": "code",
   "execution_count": null,
   "metadata": {},
   "outputs": [],
   "source": []
  }
 ],
 "metadata": {
  "kernelspec": {
   "display_name": "Python 3",
   "language": "python",
   "name": "python3"
  },
  "language_info": {
   "codemirror_mode": {
    "name": "ipython",
    "version": 3
   },
   "file_extension": ".py",
   "mimetype": "text/x-python",
   "name": "python",
   "nbconvert_exporter": "python",
   "pygments_lexer": "ipython3",
   "version": "3.6.4"
  }
 },
 "nbformat": 4,
 "nbformat_minor": 2
}
