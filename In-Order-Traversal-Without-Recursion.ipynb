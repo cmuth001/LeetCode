{
 "cells": [
  {
   "cell_type": "code",
   "execution_count": 64,
   "metadata": {},
   "outputs": [],
   "source": [
    "class Node:\n",
    "    def __init__(self, data):\n",
    "        self.data = data\n",
    "        self.left = None\n",
    "        self.right = None\n",
    "    \n",
    "    def insert(self, data):\n",
    "        if self.data is None:\n",
    "            self.data = Node(data)\n",
    "        elif self.data > data:\n",
    "            if self.left:\n",
    "                self.left.insert(data)\n",
    "            else:\n",
    "                self.left = Node(data)\n",
    "        elif self.data < data:\n",
    "            if self.right:\n",
    "                self.right.insert(data)\n",
    "            else:\n",
    "                self.right = Node(data)\n",
    "def printInOrder(root):\n",
    "        current = root\n",
    "        stack = []\n",
    "        while True:\n",
    "            if current is not None:\n",
    "                stack.append(current)\n",
    "                current = current.left\n",
    "            elif stack:\n",
    "                current = stack.pop()\n",
    "                print(current.data, end = ' ')\n",
    "                current = current.right\n",
    "            else:\n",
    "                break\n",
    "\n",
    "def printTraversalOrder(root):\n",
    "    h = height(root)\n",
    "    for i in range(1, h+1):\n",
    "        printLevelOrder(root, i)\n",
    "def printLevelOrder(node, level):\n",
    "    if node is None:\n",
    "        return\n",
    "    else:\n",
    "        if level == 1:\n",
    "            print(node.data, end = ' ')\n",
    "        elif level>1:\n",
    "            printLevelOrder(node.left, level-1)\n",
    "            printLevelOrder(node.right, level-1)\n",
    "def height(node):\n",
    "    if node is None:\n",
    "        return 0\n",
    "    else:\n",
    "        lHeight = height(node.left)\n",
    "        rHeight = height( node.right)\n",
    "        \n",
    "        if lHeight>rHeight:\n",
    "            return lHeight+1\n",
    "        else:\n",
    "            return rHeight+1"
   ]
  },
  {
   "cell_type": "code",
   "execution_count": 65,
   "metadata": {},
   "outputs": [],
   "source": [
    "root = Node(5)\n",
    "root.insert(7)\n",
    "root.insert(6)\n",
    "root.insert(4)\n",
    "root.insert(3)\n",
    "root.insert(1)\n",
    "root.insert(2)"
   ]
  },
  {
   "cell_type": "code",
   "execution_count": 66,
   "metadata": {},
   "outputs": [
    {
     "name": "stdout",
     "output_type": "stream",
     "text": [
      "1 2 3 4 5 6 7 "
     ]
    }
   ],
   "source": [
    "printInOrder(root)"
   ]
  },
  {
   "cell_type": "code",
   "execution_count": 67,
   "metadata": {},
   "outputs": [
    {
     "name": "stdout",
     "output_type": "stream",
     "text": [
      "5 4 7 3 6 1 2 "
     ]
    }
   ],
   "source": [
    "printTraversalOrder(root)"
   ]
  },
  {
   "cell_type": "code",
   "execution_count": 70,
   "metadata": {},
   "outputs": [],
   "source": [
    "def printLevelByLevel(root):\n",
    "    thisLevelNodes = [root]\n",
    "    mainList = []\n",
    "    while thisLevelNodes:\n",
    "        nextLevelNodes = []\n",
    "        levelData = []\n",
    "        for node in thisLevelNodes:\n",
    "            levelData.append(node.data)\n",
    "            if node.left:\n",
    "                nextLevelNodes.append(node.left)\n",
    "            if node.right:\n",
    "                nextLevelNodes.append(node.right)\n",
    "        mainList.append(levelData)\n",
    "        thisLevelNodes = nextLevelNodes\n",
    "    print(mainList)\n"
   ]
  },
  {
   "cell_type": "code",
   "execution_count": 71,
   "metadata": {},
   "outputs": [
    {
     "name": "stdout",
     "output_type": "stream",
     "text": [
      "[[5], [4, 7], [3, 6], [1], [2]]\n"
     ]
    }
   ],
   "source": [
    "printLevelByLevel(root)"
   ]
  },
  {
   "cell_type": "code",
   "execution_count": null,
   "metadata": {},
   "outputs": [],
   "source": []
  }
 ],
 "metadata": {
  "kernelspec": {
   "display_name": "Python 3",
   "language": "python",
   "name": "python3"
  },
  "language_info": {
   "codemirror_mode": {
    "name": "ipython",
    "version": 3
   },
   "file_extension": ".py",
   "mimetype": "text/x-python",
   "name": "python",
   "nbconvert_exporter": "python",
   "pygments_lexer": "ipython3",
   "version": "3.6.4"
  }
 },
 "nbformat": 4,
 "nbformat_minor": 2
}
