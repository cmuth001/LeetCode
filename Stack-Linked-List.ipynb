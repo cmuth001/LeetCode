{
 "cells": [
  {
   "cell_type": "code",
   "execution_count": 3,
   "metadata": {},
   "outputs": [],
   "source": [
    "#Creating a Node\n",
    "class Node:\n",
    "    def __init__(self, value=None):\n",
    "        self.value = value\n",
    "        self.next = None"
   ]
  },
  {
   "cell_type": "code",
   "execution_count": 8,
   "metadata": {},
   "outputs": [],
   "source": [
    "class Stack_LL:\n",
    "    def __init__(self):\n",
    "        self.head = None\n",
    "    \n",
    "    def print_LL(self):\n",
    "        temp_node = self.head\n",
    "        if temp_node is None:\n",
    "            print(\"Stack is Empty\")\n",
    "            return None\n",
    "        while(temp_node != None):\n",
    "            print(temp_node.value, end=' ')\n",
    "            temp_node = temp_node.next\n",
    "        print()\n",
    "    def insertE(self, data):\n",
    "        temp_node = Node(data)\n",
    "        \n",
    "        if self.head == None:\n",
    "            self.head = temp_node\n",
    "        else:\n",
    "            temp_node.next = self.head\n",
    "            self.head = temp_node\n",
    "            "
   ]
  },
  {
   "cell_type": "code",
   "execution_count": 9,
   "metadata": {},
   "outputs": [
    {
     "name": "stdout",
     "output_type": "stream",
     "text": [
      "Stack is Empty\n",
      "1 \n",
      "3 2 1 \n"
     ]
    }
   ],
   "source": [
    "stack_list = Stack_LL()\n",
    "stack_list.print_LL()\n",
    "stack_list.insertE(1)\n",
    "stack_list.print_LL()\n",
    "stack_list.insertE(2)\n",
    "stack_list.insertE(3)\n",
    "stack_list.print_LL()"
   ]
  },
  {
   "cell_type": "code",
   "execution_count": null,
   "metadata": {},
   "outputs": [],
   "source": [
    "sll"
   ]
  }
 ],
 "metadata": {
  "kernelspec": {
   "display_name": "Python 3",
   "language": "python",
   "name": "python3"
  },
  "language_info": {
   "codemirror_mode": {
    "name": "ipython",
    "version": 3
   },
   "file_extension": ".py",
   "mimetype": "text/x-python",
   "name": "python",
   "nbconvert_exporter": "python",
   "pygments_lexer": "ipython3",
   "version": "3.6.4"
  }
 },
 "nbformat": 4,
 "nbformat_minor": 2
}
