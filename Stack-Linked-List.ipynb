{
 "cells": [
  {
   "cell_type": "code",
   "execution_count": 3,
   "metadata": {},
   "outputs": [],
   "source": [
    "#Creating a Node\n",
    "class Node:\n",
    "    def __init__(self, value=None):\n",
    "        '''\n",
    "        Constructor of the class\n",
    "        args:\n",
    "            value(DataType:any) - value\n",
    "        return None\n",
    "        '''\n",
    "        self.value = value\n",
    "        self.next = None"
   ]
  },
  {
   "cell_type": "code",
   "execution_count": 18,
   "metadata": {},
   "outputs": [],
   "source": [
    "class Stack_LL:\n",
    "    def __init__(self):\n",
    "        '''\n",
    "        Constructor of the class\n",
    "        '''\n",
    "        self.head = None\n",
    "    \n",
    "    def print_LL(self):\n",
    "        '''\n",
    "        It will print the entire Stack-Linked List:LIFO\n",
    "        return None\n",
    "        '''\n",
    "        temp_node = self.head\n",
    "        if temp_node is None:\n",
    "            print(\"Print: Stack is Empty\")\n",
    "            return None\n",
    "        while(temp_node != None):\n",
    "            print(temp_node.value, end=' ')\n",
    "            temp_node = temp_node.next\n",
    "        print()\n",
    "    def insertE(self, data):\n",
    "        '''\n",
    "        Inserting an Element at the beginning of the Stack Linked List\n",
    "        \n",
    "        args:\n",
    "            data(DataType:any) - Value\n",
    "        return None\n",
    "        '''\n",
    "        temp_node = Node(data)\n",
    "        \n",
    "        if self.head == None:\n",
    "            self.head = temp_node\n",
    "        else:\n",
    "            temp_node.next = self.head\n",
    "            self.head = temp_node\n",
    "    def removeE(self):\n",
    "        '''\n",
    "        Removing an Element at the beginning of the Stack Linked List\n",
    "        \n",
    "        args:\n",
    "            data(DataType:any) - Value\n",
    "        return None\n",
    "        '''\n",
    "        if self.head == None:\n",
    "            print(\"Remove: Stack Is Empty\")\n",
    "        else:\n",
    "            temp_node = self.head.next\n",
    "            self.head = temp_node\n",
    "        \n",
    "            "
   ]
  },
  {
   "cell_type": "code",
   "execution_count": 19,
   "metadata": {},
   "outputs": [
    {
     "name": "stdout",
     "output_type": "stream",
     "text": [
      "Print: Stack is Empty\n",
      "1 \n",
      "3 2 1 \n",
      "Removing Elements\n",
      "2 1 \n",
      "1 \n",
      "Print: Stack is Empty\n",
      "Remove: Stack Is Empty\n",
      "Print: Stack is Empty\n"
     ]
    }
   ],
   "source": [
    "stack_list = Stack_LL()\n",
    "stack_list.print_LL()\n",
    "stack_list.insertE(1)\n",
    "stack_list.print_LL()\n",
    "stack_list.insertE(2)\n",
    "stack_list.insertE(3)\n",
    "stack_list.print_LL()\n",
    "\n",
    "#remove Element\n",
    "print(\"Removing Elements\")\n",
    "stack_list.removeE()\n",
    "stack_list.print_LL()\n",
    "\n",
    "stack_list.removeE()\n",
    "stack_list.print_LL()\n",
    "\n",
    "stack_list.removeE()\n",
    "stack_list.print_LL()\n",
    "\n",
    "stack_list.removeE()\n",
    "stack_list.print_LL()"
   ]
  },
  {
   "cell_type": "code",
   "execution_count": null,
   "metadata": {},
   "outputs": [],
   "source": []
  }
 ],
 "metadata": {
  "kernelspec": {
   "display_name": "Python 3",
   "language": "python",
   "name": "python3"
  },
  "language_info": {
   "codemirror_mode": {
    "name": "ipython",
    "version": 3
   },
   "file_extension": ".py",
   "mimetype": "text/x-python",
   "name": "python",
   "nbconvert_exporter": "python",
   "pygments_lexer": "ipython3",
   "version": "3.6.4"
  }
 },
 "nbformat": 4,
 "nbformat_minor": 2
}
