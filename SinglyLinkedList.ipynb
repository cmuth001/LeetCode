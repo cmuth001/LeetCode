{
 "cells": [
  {
   "cell_type": "code",
   "execution_count": 54,
   "metadata": {},
   "outputs": [],
   "source": [
    "class Node:\n",
    "    def __init__(self, value=None):\n",
    "        '''\n",
    "        Constructor of the class\n",
    "        args:\n",
    "            value(DataType:any) - value\n",
    "        return None\n",
    "        '''\n",
    "        self.value = value\n",
    "        self.next = None\n",
    "\n",
    "class SLinkedList:\n",
    "    def __init__(self):\n",
    "        '''\n",
    "        Constructor of the class\n",
    "        '''\n",
    "        self.head = None\n",
    "    \n",
    "    def printLinkedList(self):\n",
    "        '''\n",
    "        It will print the entire Singly Linked List\n",
    "        return None\n",
    "        '''\n",
    "        temp = self.head\n",
    "        while temp !=None:\n",
    "            print(temp.value, end = ' ')\n",
    "            temp = temp.next\n",
    "        print(\"\")\n",
    "    def insertAtFirst(self, data):\n",
    "        '''\n",
    "        Inserting an Element at the beginning of the Singly Linked List\n",
    "        \n",
    "        args:\n",
    "            data(DataType:any) - Value\n",
    "        return None\n",
    "        '''\n",
    "        newNode = Node(data)\n",
    "        if self.head == None:\n",
    "            self.head = newNode\n",
    "        else:\n",
    "            newNode.next = self.head\n",
    "            self.head = newNode\n",
    "    \n",
    "    def insertAtLast(self, data):\n",
    "        '''\n",
    "        Inserting an Element at last of the Singly Linked List\n",
    "        \n",
    "        args:\n",
    "            data(DataType:any) - Value\n",
    "        return None\n",
    "        '''\n",
    "        newNode = Node(data)\n",
    "        if self.head == None:\n",
    "            self.head = newNode\n",
    "        else:\n",
    "            nextNode = self.head\n",
    "            while nextNode.next != None:\n",
    "                nextNode = nextNode.next\n",
    "            nextNode.next = newNode\n",
    "    def removeFE(self):\n",
    "        '''\n",
    "        This function will remove first element from the Singly Linked List\n",
    "        return None\n",
    "        '''\n",
    "        if self.head == None:\n",
    "            print(\"No Elements in the Singly Linked List\")\n",
    "        else:\n",
    "            if self.head.next == None:\n",
    "                self.head = None\n",
    "            else:\n",
    "                tempNode = self.head.next\n",
    "                self.head = tempNode\n"
   ]
  },
  {
   "cell_type": "code",
   "execution_count": 55,
   "metadata": {},
   "outputs": [],
   "source": [
    "list1 = SLinkedList()"
   ]
  },
  {
   "cell_type": "code",
   "execution_count": 56,
   "metadata": {},
   "outputs": [
    {
     "name": "stdout",
     "output_type": "stream",
     "text": [
      "No Elements in the Singly Linked List\n",
      "3 2 1 \n",
      "2 1 \n",
      "4 2 1 \n",
      "4 2 1 5 \n",
      "2 1 5 \n",
      "5 \n"
     ]
    }
   ],
   "source": [
    "list1.removeFE()\n",
    "list1.insertAtFirst(1)\n",
    "list1.insertAtFirst(2)\n",
    "list1.insertAtFirst(3)\n",
    "list1.printLinkedList()\n",
    "list1.removeFE()\n",
    "list1.printLinkedList()\n",
    "list1.insertAtFirst(4)\n",
    "list1.printLinkedList()\n",
    "list1.insertAtLast(5)\n",
    "list1.printLinkedList()\n",
    "list1.removeFE()\n",
    "list1.printLinkedList()\n",
    "list1.removeFE()\n",
    "list1.removeFE()\n",
    "list1.printLinkedList()"
   ]
  },
  {
   "cell_type": "code",
   "execution_count": null,
   "metadata": {},
   "outputs": [],
   "source": []
  },
  {
   "cell_type": "code",
   "execution_count": null,
   "metadata": {},
   "outputs": [],
   "source": []
  }
 ],
 "metadata": {
  "kernelspec": {
   "display_name": "Python 3",
   "language": "python",
   "name": "python3"
  },
  "language_info": {
   "codemirror_mode": {
    "name": "ipython",
    "version": 3
   },
   "file_extension": ".py",
   "mimetype": "text/x-python",
   "name": "python",
   "nbconvert_exporter": "python",
   "pygments_lexer": "ipython3",
   "version": "3.6.4"
  }
 },
 "nbformat": 4,
 "nbformat_minor": 2
}
