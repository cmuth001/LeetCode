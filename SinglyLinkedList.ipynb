{
 "cells": [
  {
   "cell_type": "code",
   "execution_count": 47,
   "metadata": {},
   "outputs": [],
   "source": [
    "class Node:\n",
    "    def __init__(self, value=None):\n",
    "        '''\n",
    "        Constructor of the class\n",
    "        args:\n",
    "            value(DataType:any) - value\n",
    "        return None\n",
    "        '''\n",
    "        self.value = value\n",
    "        self.next = None\n",
    "\n",
    "class SLinkedList:\n",
    "    def __init__(self):\n",
    "        '''\n",
    "        Constructor of the class\n",
    "        '''\n",
    "        self.head = None\n",
    "    \n",
    "    def printLinkedList(self):\n",
    "        '''\n",
    "        It will print the entire Singly Linked List\n",
    "        return None\n",
    "        '''\n",
    "        temp = self.head\n",
    "        while temp !=None:\n",
    "            print(temp.value)\n",
    "            temp = temp.next\n",
    "    \n",
    "    def insertAtFirst(self, data):\n",
    "        '''\n",
    "        Inserting an Element at the beginning of the Singly Linked List\n",
    "        \n",
    "        args:\n",
    "            data(DataType:any) - Value\n",
    "        return None\n",
    "        '''\n",
    "        tempNode = Node(data)\n",
    "        if self.head == None:\n",
    "            self.head = tempNode\n",
    "        else:\n",
    "            tempNode.next = self.head\n",
    "            self.head = tempNode\n",
    "    \n",
    "    def insertAtLast(self, data):\n",
    "        '''\n",
    "        Inserting an Element at last of the Singly Linked List\n",
    "        \n",
    "        args:\n",
    "            data(DataType:any) - Value\n",
    "        return None\n",
    "        '''\n",
    "        tempNode = Node(data)\n",
    "        if self.head == None:\n",
    "            self.head = tempNode\n",
    "        else:\n",
    "            nextNode = self.head\n",
    "            while nextNode != None:\n",
    "                prevNode = nextNode\n",
    "                nextNode = nextNode.next\n",
    "            prevNode.next = tempNode\n",
    "            \n"
   ]
  },
  {
   "cell_type": "code",
   "execution_count": 48,
   "metadata": {},
   "outputs": [],
   "source": [
    "list1 = SLinkedList()"
   ]
  },
  {
   "cell_type": "code",
   "execution_count": 49,
   "metadata": {},
   "outputs": [],
   "source": [
    "list1.insertAtFirst(1)\n",
    "list1.insertAtFirst(2)\n",
    "list1.insertAtFirst(3)\n",
    "list1.insertAtFirst(4)\n",
    "list1.insertAtLast(5)"
   ]
  },
  {
   "cell_type": "code",
   "execution_count": 50,
   "metadata": {},
   "outputs": [
    {
     "name": "stdout",
     "output_type": "stream",
     "text": [
      "4\n",
      "3\n",
      "2\n",
      "1\n",
      "5\n"
     ]
    }
   ],
   "source": [
    "list1.printLinkedList()"
   ]
  },
  {
   "cell_type": "code",
   "execution_count": null,
   "metadata": {},
   "outputs": [],
   "source": []
  }
 ],
 "metadata": {
  "kernelspec": {
   "display_name": "Python 3",
   "language": "python",
   "name": "python3"
  },
  "language_info": {
   "codemirror_mode": {
    "name": "ipython",
    "version": 3
   },
   "file_extension": ".py",
   "mimetype": "text/x-python",
   "name": "python",
   "nbconvert_exporter": "python",
   "pygments_lexer": "ipython3",
   "version": "3.6.4"
  }
 },
 "nbformat": 4,
 "nbformat_minor": 2
}
