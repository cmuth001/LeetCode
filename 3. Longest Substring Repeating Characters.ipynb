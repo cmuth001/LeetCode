{
 "cells": [
  {
   "cell_type": "code",
   "execution_count": 75,
   "metadata": {},
   "outputs": [],
   "source": [
    "def longestSubString(string):\n",
    "    index = 0\n",
    "    temp = []\n",
    "    maxLen = 0\n",
    "    while len(string) > index:\n",
    "        temp.append(string[index])\n",
    "        if len(temp) == len(set(temp)):\n",
    "            maxLen = len(temp)\n",
    "        else:\n",
    "            temp = temp[1:]\n",
    "        index = index+1\n",
    "    print('Longest Sub-String in string:', \"\".join(temp), \", length:\", maxLen) "
   ]
  },
  {
   "cell_type": "code",
   "execution_count": 76,
   "metadata": {},
   "outputs": [],
   "source": [
    "string = \"abcafghbcfgaabc\""
   ]
  },
  {
   "cell_type": "code",
   "execution_count": 77,
   "metadata": {},
   "outputs": [
    {
     "name": "stdout",
     "output_type": "stream",
     "text": [
      "Longest Sub-String in string: fgaabc , length: 6\n"
     ]
    }
   ],
   "source": [
    "longestSubString(string)"
   ]
  }
 ],
 "metadata": {
  "kernelspec": {
   "display_name": "Python 3",
   "language": "python",
   "name": "python3"
  },
  "language_info": {
   "codemirror_mode": {
    "name": "ipython",
    "version": 3
   },
   "file_extension": ".py",
   "mimetype": "text/x-python",
   "name": "python",
   "nbconvert_exporter": "python",
   "pygments_lexer": "ipython3",
   "version": "3.6.4"
  }
 },
 "nbformat": 4,
 "nbformat_minor": 2
}
