{
 "cells": [
  {
   "cell_type": "code",
   "execution_count": 6,
   "metadata": {},
   "outputs": [],
   "source": [
    "class Node:\n",
    "    def __init__(self, data):\n",
    "        self.data = data\n",
    "        self.next = None"
   ]
  },
  {
   "cell_type": "code",
   "execution_count": 19,
   "metadata": {},
   "outputs": [],
   "source": [
    "class LinkedList:\n",
    "    def __init__(self):\n",
    "        self.head = None\n",
    "    \n",
    "    def insertE(self, data):\n",
    "        temp_node = Node(data)\n",
    "        if self.head == None:\n",
    "            self.head = temp_node\n",
    "        else:\n",
    "            temp_node.next = self.head\n",
    "            self.head = temp_node\n",
    "            \n",
    "    def printLL(self):\n",
    "        temp_node = self.head\n",
    "        if temp_node == None:\n",
    "            print(\"Empty: No Elements presentin LL.\")\n",
    "            return None\n",
    "        else:\n",
    "            while(temp_node):\n",
    "                print(temp_node.data, end=' ')\n",
    "                temp_node = temp_node.next\n",
    "            print()\n",
    "    def detectLoop(self):\n",
    "        temp_list = []\n",
    "        temp_node = self.head\n",
    "        if temp_node == None:\n",
    "#             print(\"Dection: Empty list\")\n",
    "            return  \"Dection: Empty list\"\n",
    "        else:\n",
    "            while temp_node.next:\n",
    "                if temp_node.next in temp_list:\n",
    "                    return \"Detection: True, Found loop in the linked list\"\n",
    "                else:\n",
    "                    temp_list.append(temp_node.next)\n",
    "                    temp_node = temp_node.next\n",
    "            return \"Detection: False,  loop not found in the linked list\"\n",
    "    \n",
    "    def loopStartsAt(self):\n",
    "        if self.head == None:\n",
    "            return \"LoopStartAt: Empty List\"\n",
    "        else:\n",
    "            slow_p = self.head\n",
    "            fast_p = self.head\n",
    "            while(slow_p and fast_p and fast_p.next):\n",
    "                slow_p = slow_p.next\n",
    "                fast_p = fast_p.next.next\n",
    "                if slow_p == fast_p:\n",
    "                    return \"LoopStartAt: \"+str(slow_p.data)\n",
    "            "
   ]
  },
  {
   "cell_type": "code",
   "execution_count": 20,
   "metadata": {},
   "outputs": [
    {
     "name": "stdout",
     "output_type": "stream",
     "text": [
      "10 4 15 20 \n",
      "Detection: True, Found loop in the linked list\n"
     ]
    },
    {
     "data": {
      "text/plain": [
       "'LoopStartAt: 10'"
      ]
     },
     "execution_count": 20,
     "metadata": {},
     "output_type": "execute_result"
    }
   ],
   "source": [
    "temp_obj = LinkedList()\n",
    "temp_obj.insertE(20)\n",
    "temp_obj.insertE(15)\n",
    "temp_obj.insertE(4)\n",
    "temp_obj.insertE(10)\n",
    "\n",
    "#print the lonked list\n",
    "temp_obj.printLL()\n",
    "\n",
    "#Create loop\n",
    "temp_obj.head.next.next.next.next = temp_obj.head \n",
    "\n",
    "#Check loop in the linked list\n",
    "result = temp_obj.detectLoop()\n",
    "print(result)\n",
    "#If found Loop starts at which element\n",
    "temp_obj.loopStartsAt()"
   ]
  },
  {
   "cell_type": "code",
   "execution_count": 25,
   "metadata": {},
   "outputs": [
    {
     "name": "stdout",
     "output_type": "stream",
     "text": [
      "/bin/sh: -c: line 0: syntax error near unexpected token `loopDetected.png'\r\n",
      "/bin/sh: -c: line 0: `[title](loopDetected.png)'\r\n"
     ]
    }
   ],
   "source": [
    "![title](loopDetected.png)"
   ]
  },
  {
   "cell_type": "code",
   "execution_count": null,
   "metadata": {},
   "outputs": [],
   "source": []
  }
 ],
 "metadata": {
  "kernelspec": {
   "display_name": "Python 3",
   "language": "python",
   "name": "python3"
  },
  "language_info": {
   "codemirror_mode": {
    "name": "ipython",
    "version": 3
   },
   "file_extension": ".py",
   "mimetype": "text/x-python",
   "name": "python",
   "nbconvert_exporter": "python",
   "pygments_lexer": "ipython3",
   "version": "3.6.4"
  }
 },
 "nbformat": 4,
 "nbformat_minor": 2
}
